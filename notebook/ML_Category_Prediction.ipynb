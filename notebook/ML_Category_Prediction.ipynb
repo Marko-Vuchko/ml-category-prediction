{
  "cells": [
    {
      "cell_type": "markdown",
      "metadata": {
        "colab_type": "text",
        "id": "view-in-github"
      },
      "source": [
        "<a href=\"https://colab.research.google.com/github/Marko-Vuchko/ml-category-prediction/blob/main/notebook/ML_Category_Prediction.ipynb\" target=\"_parent\"><img src=\"https://colab.research.google.com/assets/colab-badge.svg\" alt=\"Open In Colab\"/></a>"
      ]
    },
    {
      "cell_type": "markdown",
      "metadata": {
        "id": "8dWeulaTBi6d"
      },
      "source": [
        "## Kreiranje modela za predikciju kategorija proizvoda\n",
        "**Autor:** *Marko Vučković*"
      ]
    },
    {
      "cell_type": "markdown",
      "metadata": {
        "id": "WLIJNRGdBwVq"
      },
      "source": [
        "## 🎯 Cilj:\n",
        "***Cilj ovog zadatka bi bio razvoj modela mašinskog učenja koji će automatski predlagati odgovarajuću kategoriju za svaki novi proizvod na osnovu njegovog naziva.***"
      ]
    },
    {
      "cell_type": "markdown",
      "metadata": {
        "id": "HZfDtUmkuoZV"
      },
      "source": [
        "## **📚 Biblioteke:**\n",
        "\n",
        "*Vršimo uvoz neophodnih biblioteka koje su nam potrebne za ovaj projekat.*"
      ]
    },
    {
      "cell_type": "code",
      "execution_count": 121,
      "metadata": {
        "id": "NqslDvd_vhF7"
      },
      "outputs": [],
      "source": [
        "import pandas as pd\n",
        "import seaborn as sns\n",
        "import matplotlib.pyplot as plt\n",
        "import numpy as np\n",
        "from sklearn.model_selection import train_test_split\n",
        "from sklearn.preprocessing import MinMaxScaler\n",
        "from sklearn.pipeline import Pipeline\n",
        "from sklearn.compose import ColumnTransformer\n",
        "from sklearn.feature_extraction.text import TfidfVectorizer\n",
        "from sklearn.linear_model import LogisticRegression\n",
        "from sklearn.naive_bayes import MultinomialNB\n",
        "from sklearn.tree import DecisionTreeClassifier\n",
        "from sklearn.ensemble import RandomForestClassifier\n",
        "from sklearn.svm import LinearSVC\n",
        "from sklearn.metrics import classification_report, confusion_matrix, accuracy_score"
      ]
    },
    {
      "cell_type": "markdown",
      "metadata": {
        "id": "tqNNShpAvkUO"
      },
      "source": [
        "## **🔑 Uvoz podataka:**\n",
        "*Uvozimo skup podataka, ispisujemo broj redova i kolona, prikazujemo prvih nekoliko redova i na kraju prikazujemo tipove podataka u kolonama, kao i da li postoje NaN vrednosti.*"
      ]
    },
    {
      "cell_type": "code",
      "execution_count": 122,
      "metadata": {
        "colab": {
          "base_uri": "https://localhost:8080/",
          "height": 553
        },
        "id": "T45ngKcpxGgI",
        "outputId": "bdf1a861-268a-4ae6-a76c-88bb85e7e027"
      },
      "outputs": [
        {
          "name": "stdout",
          "output_type": "stream",
          "text": [
            "Dataset shape (rows, columns): (35311, 8)\n",
            "\n",
            "First 5 rows:\n"
          ]
        },
        {
          "data": {
            "text/html": [
              "<div>\n",
              "<style scoped>\n",
              "    .dataframe tbody tr th:only-of-type {\n",
              "        vertical-align: middle;\n",
              "    }\n",
              "\n",
              "    .dataframe tbody tr th {\n",
              "        vertical-align: top;\n",
              "    }\n",
              "\n",
              "    .dataframe thead th {\n",
              "        text-align: right;\n",
              "    }\n",
              "</style>\n",
              "<table border=\"1\" class=\"dataframe\">\n",
              "  <thead>\n",
              "    <tr style=\"text-align: right;\">\n",
              "      <th></th>\n",
              "      <th>product ID</th>\n",
              "      <th>Product Title</th>\n",
              "      <th>Merchant ID</th>\n",
              "      <th>Category Label</th>\n",
              "      <th>_Product Code</th>\n",
              "      <th>Number_of_Views</th>\n",
              "      <th>Merchant Rating</th>\n",
              "      <th>Listing Date</th>\n",
              "    </tr>\n",
              "  </thead>\n",
              "  <tbody>\n",
              "    <tr>\n",
              "      <th>0</th>\n",
              "      <td>1</td>\n",
              "      <td>apple iphone 8 plus 64gb silver</td>\n",
              "      <td>1</td>\n",
              "      <td>Mobile Phones</td>\n",
              "      <td>QA-2276-XC</td>\n",
              "      <td>860.0</td>\n",
              "      <td>2.5</td>\n",
              "      <td>5/10/2024</td>\n",
              "    </tr>\n",
              "    <tr>\n",
              "      <th>1</th>\n",
              "      <td>2</td>\n",
              "      <td>apple iphone 8 plus 64 gb spacegrau</td>\n",
              "      <td>2</td>\n",
              "      <td>Mobile Phones</td>\n",
              "      <td>KA-2501-QO</td>\n",
              "      <td>3772.0</td>\n",
              "      <td>4.8</td>\n",
              "      <td>12/31/2024</td>\n",
              "    </tr>\n",
              "    <tr>\n",
              "      <th>2</th>\n",
              "      <td>3</td>\n",
              "      <td>apple mq8n2b/a iphone 8 plus 64gb 5.5 12mp sim...</td>\n",
              "      <td>3</td>\n",
              "      <td>Mobile Phones</td>\n",
              "      <td>FP-8086-IE</td>\n",
              "      <td>3092.0</td>\n",
              "      <td>3.9</td>\n",
              "      <td>11/10/2024</td>\n",
              "    </tr>\n",
              "    <tr>\n",
              "      <th>3</th>\n",
              "      <td>4</td>\n",
              "      <td>apple iphone 8 plus 64gb space grey</td>\n",
              "      <td>4</td>\n",
              "      <td>Mobile Phones</td>\n",
              "      <td>YI-0086-US</td>\n",
              "      <td>466.0</td>\n",
              "      <td>3.4</td>\n",
              "      <td>5/2/2022</td>\n",
              "    </tr>\n",
              "    <tr>\n",
              "      <th>4</th>\n",
              "      <td>5</td>\n",
              "      <td>apple iphone 8 plus gold 5.5 64gb 4g unlocked ...</td>\n",
              "      <td>5</td>\n",
              "      <td>Mobile Phones</td>\n",
              "      <td>NZ-3586-WP</td>\n",
              "      <td>4426.0</td>\n",
              "      <td>1.6</td>\n",
              "      <td>4/12/2023</td>\n",
              "    </tr>\n",
              "  </tbody>\n",
              "</table>\n",
              "</div>"
            ],
            "text/plain": [
              "   product ID                                      Product Title  Merchant ID  \\\n",
              "0           1                    apple iphone 8 plus 64gb silver            1   \n",
              "1           2                apple iphone 8 plus 64 gb spacegrau            2   \n",
              "2           3  apple mq8n2b/a iphone 8 plus 64gb 5.5 12mp sim...            3   \n",
              "3           4                apple iphone 8 plus 64gb space grey            4   \n",
              "4           5  apple iphone 8 plus gold 5.5 64gb 4g unlocked ...            5   \n",
              "\n",
              "   Category Label _Product Code  Number_of_Views  Merchant Rating  \\\n",
              "0   Mobile Phones    QA-2276-XC            860.0              2.5   \n",
              "1   Mobile Phones    KA-2501-QO           3772.0              4.8   \n",
              "2   Mobile Phones    FP-8086-IE           3092.0              3.9   \n",
              "3   Mobile Phones    YI-0086-US            466.0              3.4   \n",
              "4   Mobile Phones    NZ-3586-WP           4426.0              1.6   \n",
              "\n",
              "   Listing Date    \n",
              "0       5/10/2024  \n",
              "1      12/31/2024  \n",
              "2      11/10/2024  \n",
              "3        5/2/2022  \n",
              "4       4/12/2023  "
            ]
          },
          "metadata": {},
          "output_type": "display_data"
        },
        {
          "name": "stdout",
          "output_type": "stream",
          "text": [
            "\n",
            "Dataset info:\n",
            "<class 'pandas.core.frame.DataFrame'>\n",
            "RangeIndex: 35311 entries, 0 to 35310\n",
            "Data columns (total 8 columns):\n",
            " #   Column           Non-Null Count  Dtype  \n",
            "---  ------           --------------  -----  \n",
            " 0   product ID       35311 non-null  int64  \n",
            " 1   Product Title    35139 non-null  object \n",
            " 2   Merchant ID      35311 non-null  int64  \n",
            " 3    Category Label  35267 non-null  object \n",
            " 4   _Product Code    35216 non-null  object \n",
            " 5   Number_of_Views  35297 non-null  float64\n",
            " 6   Merchant Rating  35141 non-null  float64\n",
            " 7    Listing Date    35252 non-null  object \n",
            "dtypes: float64(2), int64(2), object(4)\n",
            "memory usage: 2.2+ MB\n"
          ]
        }
      ],
      "source": [
        "# Učitavanje skupa podataka sa GutHub-a\n",
        "url = \"https://raw.githubusercontent.com/Marko-Vuchko/ml-category-prediction/main/data/products.csv\"\n",
        "\n",
        "df = pd.read_csv(url)\n",
        "\n",
        "# Ispisivanje broja redova i kolona\n",
        "print(\"Dataset shape (rows, columns):\", df.shape)\n",
        "\n",
        "# Ispisivanje prvih 5 redova\n",
        "print(\"\\nFirst 5 rows:\")\n",
        "display(df.head())\n",
        "\n",
        "# Prikaz tipova podataka kolona i NaN vrednosti\n",
        "print(\"\\nDataset info:\")\n",
        "df.info()"
      ]
    },
    {
      "cell_type": "markdown",
      "metadata": {
        "id": "s7xCM_Qry5vR"
      },
      "source": [
        "## **🧮 Nedostajuće vrednosti:**\n",
        "*Računamo broj nedostajućih vrednosti po kolonama, i vršimo grafički prikaz rasprostranjenosti takvih vrednosti.*"
      ]
    },
    {
      "cell_type": "code",
      "execution_count": 123,
      "metadata": {
        "colab": {
          "base_uri": "https://localhost:8080/",
          "height": 751
        },
        "id": "a5IqK8Khz782",
        "outputId": "e3b97d95-7562-4322-9e87-17404eaed342"
      },
      "outputs": [
        {
          "name": "stdout",
          "output_type": "stream",
          "text": [
            "Missing values per column:\n",
            "product ID           0\n",
            "Product Title      172\n",
            "Merchant ID          0\n",
            " Category Label     44\n",
            "_Product Code       95\n",
            "Number_of_Views     14\n",
            "Merchant Rating    170\n",
            " Listing Date       59\n",
            "dtype: int64\n"
          ]
        },
        {
          "data": {
            "image/png": "[encoded data removed]",
            "text/plain": [
              "<Figure size 1000x500 with 1 Axes>"
            ]
          },
          "metadata": {},
          "output_type": "display_data"
        }
      ],
      "source": [
        "# Brojanje nedostajućih vrednosti po kolonama\n",
        "print(\"Missing values per column:\")\n",
        "print(df.isna().sum())\n",
        "\n",
        "# Grafički prikaz nedostajućih vrednosti\n",
        "plt.figure(figsize=(10, 5))\n",
        "sns.heatmap(df.isna(), cbar=False, cmap=\"YlOrRd\")\n",
        "plt.title(\"Missing Values Heatmap\")\n",
        "plt.show()"
      ]
    },
    {
      "cell_type": "markdown",
      "metadata": {
        "id": "P5lQDWrWABaU"
      },
      "source": [
        "## **🛠️ Uređivanje kolona:**\n",
        "*Standardizujemo kolone tako što ih sve pretvaramo u mala slova, uklanjamo razmake, kao i nepotrebne simbole. Takođe u ovom delu izvršićemo i brisanje NaN vrednosti.*"
      ]
    },
    {
      "cell_type": "code",
      "execution_count": 124,
      "metadata": {
        "colab": {
          "base_uri": "https://localhost:8080/"
        },
        "id": "qP8maghEAFbv",
        "outputId": "c100e797-7b63-4986-96f7-5e71d0541dd6"
      },
      "outputs": [
        {
          "name": "stdout",
          "output_type": "stream",
          "text": [
            "\n",
            "Column names after standardization:\n",
            "New dataset shape: (34760, 8)\n",
            "Missing values per column:\n",
            "product_id         0\n",
            "product_title      0\n",
            "merchant_id        0\n",
            "category_label     0\n",
            "product_code       0\n",
            "number_of_views    0\n",
            "merchant_rating    0\n",
            "listing_date       0\n",
            "dtype: int64\n"
          ]
        }
      ],
      "source": [
        "# Standardizacija imena kolona\n",
        "df.columns = (df.columns.str.lower().str.strip().str.replace(\"_\", \" \").str.replace(\" \", \"_\").str.lstrip(\"_\"))\n",
        "print(\"\\nColumn names after standardization:\")\n",
        "df.columns\n",
        "\n",
        "# Brisanje redova sa NaN vrednostima\n",
        "df = df.dropna()\n",
        "\n",
        "# Prikazivanje nove veličine skupa podataka\n",
        "print(\"New dataset shape:\", df.shape)\n",
        "\n",
        "# Provera nedostajućih vrednosti nakon brisanja\n",
        "print(\"Missing values per column:\")\n",
        "print(df.isna().sum())"
      ]
    },
    {
      "cell_type": "markdown",
      "metadata": {
        "id": "dIrF7rS7RJ-z"
      },
      "source": [
        "## **🔎 Ispitivanje kolone \"category_label\":**\n",
        "*Ispitaćemo kolonu \"category_label\" da bi utvrdili jedinstvene vrednosti u koloni, a da bi nam bilo lakše da uočimo razlike izvršićemo i grafički prikaz takvih vrednosti.*"
      ]
    },
    {
      "cell_type": "code",
      "execution_count": 125,
      "metadata": {
        "colab": {
          "base_uri": "https://localhost:8080/",
          "height": 682
        },
        "id": "VovukdLxRLI2",
        "outputId": "3768de3c-5779-4cd5-ae69-ab18399e5841"
      },
      "outputs": [
        {
          "name": "stdout",
          "output_type": "stream",
          "text": [
            "\n",
            "Unique values in 'category_label' column:\n",
            "category_label\n",
            "Fridge Freezers     5424\n",
            "Washing Machines    3971\n",
            "Mobile Phones       3970\n",
            "CPUs                3711\n",
            "TVs                 3502\n",
            "Fridges             3403\n",
            "Dishwashers         3374\n",
            "Digital Cameras     2661\n",
            "Microwaves          2307\n",
            "Freezers            2182\n",
            "fridge               121\n",
            "CPU                   81\n",
            "Mobile Phone          53\n",
            "Name: count, dtype: int64\n"
          ]
        },
        {
          "data": {
            "image/png": "[encoded data removed]",
            "text/plain": [
              "<Figure size 1500x400 with 1 Axes>"
            ]
          },
          "metadata": {},
          "output_type": "display_data"
        }
      ],
      "source": [
        "# Prikaz jedinstvenih vrednosti u koloni 'category_label'\n",
        "print(\"\\nUnique values in 'category_label' column:\")\n",
        "category_counts = df['category_label'].value_counts()\n",
        "print(category_counts)\n",
        "\n",
        "# Grafički prikaz distribucije kategorija\n",
        "plt.figure(figsize=(15, 4))\n",
        "plt.bar(category_counts.index, category_counts.values, color=['skyblue', 'salmon'])\n",
        "plt.title(\"Category Distribution\")\n",
        "plt.xlabel(\"Categories\")\n",
        "plt.ylabel(\"Number of Products\")\n",
        "plt.xticks(rotation=45)\n",
        "plt.tight_layout()\n",
        "plt.show()"
      ]
    },
    {
      "cell_type": "markdown",
      "metadata": {
        "id": "3jl8ApJNRODO"
      },
      "source": [
        "## **🧹 Standardizacija kolone \"category_label\":**\n",
        "*Standardizujemo kolonu \"category_label\" na mala slova i uklanjamo razmake. Vršimo objedinjavanje više naziva jedne kategorije u isključivo jedan naziv. Takođe, vrišmo konvertovanje tipa kolone u tip \"category\".*"
      ]
    },
    {
      "cell_type": "code",
      "execution_count": 126,
      "metadata": {
        "colab": {
          "base_uri": "https://localhost:8080/"
        },
        "id": "lOlla3QQRUcW",
        "outputId": "b262cead-6e73-448e-d088-b7350bc1cce5"
      },
      "outputs": [
        {
          "name": "stdout",
          "output_type": "stream",
          "text": [
            "Unique category values after cleaning:\n",
            "category_label\n",
            "freezers            7606\n",
            "mobile phone        4023\n",
            "washing machines    3971\n",
            "cpu                 3792\n",
            "fridge              3524\n",
            "tvs                 3502\n",
            "dishwashers         3374\n",
            "digital cameras     2661\n",
            "microwaves          2307\n",
            "Name: count, dtype: int64\n",
            "\n",
            "Data types after conversion: category\n"
          ]
        }
      ],
      "source": [
        "# Konvertovanje kolone 'category_label' u string, pretvaranje u mala slova i uklanjanje razmaka\n",
        "df[\"category_label\"] = df[\"category_label\"].astype(str).str.lower().str.strip()\n",
        "\n",
        "# Mapiranje nepravilnih vrednosti na ispravne\n",
        "df[\"category_label\"] = df[\"category_label\"].replace({\"fridges\": \"fridge\", \"mobile phones\": \"mobile phone\", \"fridge freezers\": \"freezers\",\"cpus\": \"cpu\"})\n",
        "\n",
        "# Prikaz jedinstvenih vrednosti nakon čišćenja\n",
        "print(\"Unique category values after cleaning:\")\n",
        "print(df[\"category_label\"].value_counts())\n",
        "\n",
        "# Konvertovanje kolone 'category_label' u kategorijski tip podataka\n",
        "df[\"category_label\"] = df[\"category_label\"].astype(\"category\")\n",
        "print(\"\\nData types after conversion:\",  df[\"category_label\"].dtype)"
      ]
    },
    {
      "cell_type": "markdown",
      "metadata": {},
      "source": [
        "## **🔬 Analiza kolone \"product_title\":**\n",
        "*Brojimo reči u naslovu, brojimo karaktere u naslovu, proveravamo prosečnu dužinu reči, tražimo najdužu reč, ispitujemo da li postoje skraćenice u naslovu i na kraju utvrđujemo da li postoje interpukcijski znakovi i reči napisane velikim slovom u naslovu.*"
      ]
    },
    {
      "cell_type": "code",
      "execution_count": 127,
      "metadata": {},
      "outputs": [
        {
          "name": "stdout",
          "output_type": "stream",
          "text": [
            "Max words in title: 37\n",
            "Min words in title: 1\n",
            "\n",
            "Max characters in title: 200\n",
            "Min characters in title: 5\n",
            "\n",
            "Average word length in title(in charachters): 5.59\n",
            "\n",
            "Longest word length in title(in charachters): 33\n",
            "\n",
            "Abbreviation USB appears in 77 titles\n",
            "Abbreviation LED appears in 2232 titles\n",
            "Abbreviation HD appears in 2663 titles\n",
            "Abbreviation LCD appears in 283 titles\n",
            "Abbreviation PC appears in 67 titles\n",
            "Abbreviation TV appears in 2774 titles\n",
            "\n",
            "Mean uppercase words in title: 0.0\n",
            "\n",
            "Mean punctuation count in title: 0.20\n"
          ]
        }
      ],
      "source": [
        "# Broj reči u naslovu\n",
        "word_count = df['product_title'].str.split().str.len()\n",
        "print(f'Max words in title: {word_count.max()}')\n",
        "print(f'Min words in title: {word_count.min()}')\n",
        "\n",
        "# Broj karaktera u naslovu\n",
        "char_count = df['product_title'].str.len()\n",
        "print(f'\\nMax characters in title: {char_count.max()}')\n",
        "print(f'Min characters in title: {char_count.min()}')\n",
        "\n",
        "# Prosečna dužina reči\n",
        "avg_word_length = df['product_title'].apply(lambda x: np.mean([len(word) for word in str(x).split()]))\n",
        "print(f'\\nAverage word length in title(in charachters): {avg_word_length.mean():.2f}')\n",
        "\n",
        "# Dužina najduže reči\n",
        "longest_word_length = df['product_title'].apply(lambda x: max([len(word) for word in str(x).split()]))\n",
        "print(f'\\nLongest word length in title(in charachters): {longest_word_length.max()}\\n')\n",
        "\n",
        "# Prisutnost čestih skraćenica\n",
        "common_terms = ['USB', 'LED', 'HD', 'LCD', 'PC', 'TV']\n",
        "for term in common_terms:\n",
        "    broj_pojavljivanja = df['product_title'].str.contains(term, case=False).sum()\n",
        "    print(f'Abbreviation {term} appears in {broj_pojavljivanja} titles')\n",
        "\n",
        "# Broj reči napisanih velikim slovima\n",
        "uppercase_words = df['product_title'].apply(lambda x: sum(word.isupper() for word in str(x).split()))\n",
        "print(f'\\nMean uppercase words in title: {uppercase_words.mean()}')\n",
        "\n",
        "# Broj interpunkcijskih znakova\n",
        "punct_count = df['product_title'].str.count('[,.-]')\n",
        "print(f\"\\nMean punctuation count in title: {punct_count.mean():.2f}\")"
      ]
    },
    {
      "cell_type": "markdown",
      "metadata": {
        "id": "OGNR8M4YRggs"
      },
      "source": [
        "## **🗑️ Uklanjanje kolona:**\n",
        "*Uklanjamo kolone koje nam nisu potrebne za treniranje modela.*"
      ]
    },
    {
      "cell_type": "code",
      "execution_count": 128,
      "metadata": {
        "colab": {
          "base_uri": "https://localhost:8080/"
        },
        "id": "Y5y9HIdPRjvC",
        "outputId": "1dd3517b-3209-45af-da9b-f538b0cf6a7a"
      },
      "outputs": [
        {
          "name": "stdout",
          "output_type": "stream",
          "text": [
            "Remaining columns:\n",
            "['product_title', 'category_label', 'number_of_views']\n"
          ]
        }
      ],
      "source": [
        "# Drop columns that are not useful for modeling\n",
        "df = df.drop(columns=[\"product_id\", \"merchant_id\", \"product_code\", \"merchant_rating\", \"listing_date\"])\n",
        "\n",
        "# Preview remaining columns\n",
        "print(\"Remaining columns:\")\n",
        "print(df.columns.tolist())"
      ]
    },
    {
      "cell_type": "markdown",
      "metadata": {},
      "source": [
        "## **📝 Priprema podataka za treniranje modela:**\n",
        "*Kreiramo promenljive sa kolonama koje će nam biti potrebne za treniranje modela, a zatim vršimo podelu na skup podataka za treniranje i testiranje modela. Na kraju vršimo preprocesiranje, odnosno prevođenje na jezik razumljiv mašini.*"
      ]
    },
    {
      "cell_type": "code",
      "execution_count": 129,
      "metadata": {},
      "outputs": [],
      "source": [
        "# Karakteristike i oznake\n",
        "X = df[[\"product_title\", \"number_of_views\"]]\n",
        "y = df[\"category_label\"]\n",
        "\n",
        "# Train-test podela\n",
        "X_train, X_test, y_train, y_test = train_test_split(\n",
        "    X, y, test_size=0.2, random_state=42, stratify=y\n",
        ")\n",
        "\n",
        "# Preprocesiranje podataka\n",
        "preprocessor = ColumnTransformer(\n",
        "    transformers=[\n",
        "        (\"title\", TfidfVectorizer(), \"product_title\"),\n",
        "        (\"views\", MinMaxScaler(), [\"number_of_views\"])\n",
        "    ]\n",
        ")"
      ]
    },
    {
      "cell_type": "markdown",
      "metadata": {},
      "source": [
        "## **🤖 Modeli:**\n",
        "*Kreiramo rečnik sa modelima koje ćemo trenirati i kasnije testirati da bi uočili koji model nam najviše odgovara za ovaj projekat.*"
      ]
    },
    {
      "cell_type": "code",
      "execution_count": null,
      "metadata": {},
      "outputs": [],
      "source": [
        "# Modeli\n",
        "models = {\n",
        "    \"Logistic Regression\": LogisticRegression(max_iter=1000),\n",
        "    \"Naive Bayes\": MultinomialNB(),\n",
        "    \"Decision Tree\": DecisionTreeClassifier(),\n",
        "    \"Random Forest\": RandomForestClassifier(),\n",
        "    \"Support Vector Machine\": LinearSVC()\n",
        "}\n",
        "\n",
        "# Treniranje i evaluacija modela\n",
        "for name, model in models.items():\n",
        "    print(f\"\\n🔎 {name}\")\n",
        "    pipeline = Pipeline([\n",
        "       [\"preprocessing\", preprocessor],\n",
        "       [\"classifier\", model]\n",
        "    ])\n",
        "    pipeline.fit(X_train, y_train)\n",
        "    y_pred = pipeline.predict(X_test)\n",
        "    print(\"\\nAccuracy:\", accuracy_score(y_test, y_pred))\n",
        "    print(\"\\nConfusion Matrix:\\n\", confusion_matrix(y_test, y_pred))\n",
        "    \n",
        "    # Kreiranje confusion matrix\n",
        "    cm = confusion_matrix(y_test, y_pred)\n",
        "\n",
        "    # Vizualizacija confusion matrix-a\n",
        "    plt.figure(figsize=(6, 6))\n",
        "    sns.heatmap(cm, \n",
        "                annot=True,                 \n",
        "                fmt='d',                    \n",
        "                cmap='Blues',               \n",
        "                xticklabels=y.unique(),     \n",
        "                yticklabels=y.unique())    \n",
        "    \n",
        "    plt.title(f'Confusion Matrix - {name}')\n",
        "    plt.ylabel(\"Real value\")\n",
        "    plt.xlabel(\"Predicted value\")\n",
        "\n",
        "    plt.tight_layout()\n",
        "    plt.show()\n",
        "\n",
        "    print(classification_report(y_test, y_pred))\n",
        "    print(\"-\" * 100)"
      ]
    }
  ],
  "metadata": {
    "colab": {
      "authorship_tag": "ABX9TyOccJu705tCD9FgCj8JCb6l",
      "include_colab_link": true,
      "provenance": []
    },
    "kernelspec": {
      "display_name": "Python 3",
      "name": "python3"
    },
    "language_info": {
      "codemirror_mode": {
        "name": "ipython",
        "version": 3
      },
      "file_extension": ".py",
      "mimetype": "text/x-python",
      "name": "python",
      "nbconvert_exporter": "python",
      "pygments_lexer": "ipython3",
      "version": "3.13.2"
    }
  },
  "nbformat": 4,
  "nbformat_minor": 0
}
