{
  "nbformat": 4,
  "nbformat_minor": 0,
  "metadata": {
    "colab": {
      "provenance": [],
      "authorship_tag": "ABX9TyOKRsOOp/guJRff7Ok5viyW",
      "include_colab_link": true
    },
    "kernelspec": {
      "name": "python3",
      "display_name": "Python 3"
    },
    "language_info": {
      "name": "python"
    }
  },
  "cells": [
    {
      "cell_type": "markdown",
      "metadata": {
        "id": "view-in-github",
        "colab_type": "text"
      },
      "source": [
        "<a href=\"https://colab.research.google.com/github/Marko-Vuchko/ml-category-prediction/blob/main/notebook/ML_Category_Prediction.ipynb\" target=\"_parent\"><img src=\"https://colab.research.google.com/assets/colab-badge.svg\" alt=\"Open In Colab\"/></a>"
      ]
    },
    {
      "cell_type": "markdown",
      "source": [
        "## Kreiranje modela za predikciju kategorija proizvoda\n",
        "**Autor:** *Marko Vučković*"
      ],
      "metadata": {
        "id": "8dWeulaTBi6d"
      }
    },
    {
      "cell_type": "markdown",
      "source": [
        "## 🎯 Cilj:\n",
        "***Cilj ovog zadatka bi bio razvoj modela mašinskog učenja koji će automatski predlagati odgovarajuću kategoriju za svaki novi proizvod na osnovu njegovog naziva.***"
      ],
      "metadata": {
        "id": "WLIJNRGdBwVq"
      }
    }
  ]
}